{
 "cells": [
  {
   "cell_type": "markdown",
   "metadata": {},
   "source": [
    "# Neural networks with PyTorch\n",
    "\n",
    "Deep learning networks tend to be massive with dozens or hundreds of layers, that's where the term \"deep\" comes from. You can build one of these deep networks using only weight matrices as we did in the previous notebook, but in general it's very cumbersome and difficult to implement. PyTorch has a nice module `nn` that provides a nice way to efficiently build large neural networks."
   ]
  },
  {
   "cell_type": "code",
   "execution_count": 3,
   "metadata": {},
   "outputs": [],
   "source": [
    "# Import necessary packages\n",
    "\n",
    "%matplotlib inline\n",
    "%config InlineBackend.figure_format = 'retina'\n",
    "\n",
    "import numpy as np\n",
    "import torch\n",
    "\n",
    "import helper\n",
    "\n",
    "import matplotlib.pyplot as plt"
   ]
  },
  {
   "cell_type": "markdown",
   "metadata": {},
   "source": [
    "\n",
    "Now we're going to build a larger network that can solve a (formerly) difficult problem, identifying text in an image. Here we'll use the MNIST dataset which consists of greyscale handwritten digits. Each image is 28x28 pixels, you can see a sample below\n",
    "\n",
    "<img src='assets/mnist.png'>\n",
    "\n",
    "Our goal is to build a neural network that can take one of these images and predict the digit in the image.\n",
    "\n",
    "First up, we need to get our dataset. This is provided through the `torchvision` package. The code below will download the MNIST dataset, then create training and test datasets for us. Don't worry too much about the details here, you'll learn more about this later."
   ]
  },
  {
   "cell_type": "code",
   "execution_count": 4,
   "metadata": {},
   "outputs": [
    {
     "name": "stdout",
     "output_type": "stream",
     "text": [
      "Downloading http://yann.lecun.com/exdb/mnist/train-images-idx3-ubyte.gz\n",
      "Downloading http://yann.lecun.com/exdb/mnist/train-labels-idx1-ubyte.gz\n",
      "Downloading http://yann.lecun.com/exdb/mnist/t10k-images-idx3-ubyte.gz\n",
      "Downloading http://yann.lecun.com/exdb/mnist/t10k-labels-idx1-ubyte.gz\n",
      "Processing...\n",
      "Done!\n"
     ]
    }
   ],
   "source": [
    "### Run this cell\n",
    "\n",
    "from torchvision import datasets, transforms\n",
    "\n",
    "# Define a transform to normalize the data\n",
    "transform = transforms.Compose([transforms.ToTensor(),\n",
    "                              transforms.Normalize((0.5,), (0.5,)),\n",
    "                              ])\n",
    "\n",
    "# Download and load the training data\n",
    "trainset = datasets.MNIST('~/.pytorch/MNIST_data/', download=True, train=True, transform=transform)\n",
    "trainloader = torch.utils.data.DataLoader(trainset, batch_size=64, shuffle=True)"
   ]
  },
  {
   "cell_type": "markdown",
   "metadata": {},
   "source": [
    "We have the training data loaded into `trainloader` and we make that an iterator with `iter(trainloader)`. Later, we'll use this to loop through the dataset for training, like\n",
    "\n",
    "```python\n",
    "for image, label in trainloader:\n",
    "    ## do things with images and labels\n",
    "```\n",
    "\n",
    "You'll notice I created the `trainloader` with a batch size of 64, and `shuffle=True`. The batch size is the number of images we get in one iteration from the data loader and pass through our network, often called a *batch*. And `shuffle=True` tells it to shuffle the dataset every time we start going through the data loader again. But here I'm just grabbing the first batch so we can check out the data. We can see below that `images` is just a tensor with size `(64, 1, 28, 28)`. So, 64 images per batch, 1 color channel, and 28x28 images."
   ]
  },
  {
   "cell_type": "code",
   "execution_count": 5,
   "metadata": {},
   "outputs": [
    {
     "name": "stdout",
     "output_type": "stream",
     "text": [
      "<class 'torch.Tensor'>\n",
      "torch.Size([64, 1, 28, 28])\n",
      "torch.Size([64])\n"
     ]
    }
   ],
   "source": [
    "dataiter = iter(trainloader)\n",
    "images, labels = dataiter.next()\n",
    "print(type(images))\n",
    "print(images.shape)\n",
    "print(labels.shape)"
   ]
  },
  {
   "cell_type": "markdown",
   "metadata": {},
   "source": [
    "This is what one of the images looks like. "
   ]
  },
  {
   "cell_type": "code",
   "execution_count": 6,
   "metadata": {},
   "outputs": [
    {
     "data": {
      "image/png": "[encoded data removed]",
      "text/plain": [
       "<Figure size 432x288 with 1 Axes>"
      ]
     },
     "metadata": {
      "image/png": {
       "height": 250,
       "width": 253
      },
      "needs_background": "light"
     },
     "output_type": "display_data"
    }
   ],
   "source": [
    "plt.imshow(images[1].numpy().squeeze(), cmap='Greys_r');"
   ]
  },
  {
   "cell_type": "markdown",
   "metadata": {},
   "source": [
    "First, let's try to build a simple network for this dataset using weight matrices and matrix multiplications. Then, we'll see how to do it using PyTorch's `nn` module which provides a much more convenient and powerful method for defining network architectures.\n",
    "\n",
    "The networks you've seen so far are called *fully-connected* or *dense* networks. Each unit in one layer is connected to each unit in the next layer. In fully-connected networks, the input to each layer must be a one-dimensional vector (which can be stacked into a 2D tensor as a batch of multiple examples). However, our images are 28x28 2D tensors, so we need to convert them into 1D vectors. Thinking about sizes, we need to convert the batch of images with shape `(64, 1, 28, 28)` to a have a shape of `(64, 784)`, 784 is 28 times 28. This is typically called *flattening*, we flattened the 2D images into 1D vectors.\n",
    "\n",
    "Previously you built a network with one output unit. Here we need 10 output units, one for each digit. We want our network to predict the digit shown in an image, so what we'll do is calculate probabilities that the image is of any one digit or class. This ends up being a discrete probability distribution over the classes (digits) that tells us the most likely class for the image. That means we need 10 output units for the 10 classes (digits). We'll see how to convert the network output into a probability distribution next.\n",
    "\n",
    "> **Exercise:** Flatten the batch of images `images`. Then build a multi-layer network with 784 input units, 256 hidden units, and 10 output units using random tensors for the weights and biases. For now, use a sigmoid activation for the hidden layer. Leave the output layer without an activation, we'll add one that gives us a probability distribution next."
   ]
  },
  {
   "cell_type": "code",
   "execution_count": 9,
   "metadata": {},
   "outputs": [
    {
     "name": "stdout",
     "output_type": "stream",
     "text": [
      "tensor([[  4.8704,  -6.3852,  -0.8744,  -7.0433,  -6.6926,  -0.8622, -14.0722,\n",
      "         -12.0758,  -1.4674,   1.6109],\n",
      "        [  3.9473,  -3.3560,   4.7660,  -8.9044,  -6.5483,   3.7400,  -6.3308,\n",
      "         -18.9982,   4.3634, -10.2805],\n",
      "        [  3.8092,  -1.3501,   5.8072,  -1.3801,  -7.7958,  12.5719,  -6.2579,\n",
      "          -4.7911,  -3.4308, -21.6381],\n",
      "        [  2.2410,  -9.6959,   1.1641,  -3.3193,  -4.8654,   7.7145,  -0.1529,\n",
      "           3.1121,  12.1770,  -7.1149],\n",
      "        [  0.8518,  -7.5677,  -0.9336, -11.6844, -13.6134,  10.7866, -10.9922,\n",
      "         -15.5991,   6.0978,   1.0765],\n",
      "        [ -1.4969,  -8.5904,   0.4880,   2.3429,  -4.0009,   5.8338,   0.2326,\n",
      "          -9.3029,   5.4434,  -9.8574],\n",
      "        [  9.7480,   0.3091,   5.2512,  -1.9878,   0.4525,   6.3718,  -7.0216,\n",
      "          -2.4145,  -1.9837, -15.3064],\n",
      "        [ -3.9889, -11.0454,   1.7467,  -9.6099,  -4.1077,   3.4199, -14.6923,\n",
      "          -7.9283,  -3.0286,  -7.3589],\n",
      "        [ -5.4717, -13.6937,  -2.0486,   1.2997,  -6.7451,   4.2991, -10.3116,\n",
      "         -14.3782,  -1.4972,  -0.0152],\n",
      "        [  4.8963, -10.4383,  10.4837,  -2.7859,  -3.7043,   1.8444, -16.1399,\n",
      "         -10.9105,   6.0576,  -2.5927],\n",
      "        [  1.6323,  -7.8023,  -2.1583,   3.3626,  -5.3142,  -1.0733,   1.5834,\n",
      "         -12.5389,   1.2012,  -9.6417],\n",
      "        [  3.1118,  -9.5656,  -4.2102,  -3.6912,  -3.9141,   5.2477,   1.6337,\n",
      "         -14.7817,  -4.8035, -16.3593],\n",
      "        [ -0.5829,  -1.7856,   2.5856,  -3.6406,  -7.5250,   7.3535,  -1.3932,\n",
      "          -7.0140,  15.9946, -11.4196],\n",
      "        [ -6.6781, -14.0820,  -1.9922,  -0.7442,   2.2548,  12.0634,  -7.9471,\n",
      "         -13.2873,   4.2888,   0.6926],\n",
      "        [  7.6003,  -6.0681,   1.9326,  -1.6686,  -2.1013,   3.9949,  -0.5020,\n",
      "          -1.5202,  -3.4688, -12.1861],\n",
      "        [ -1.8310,  -7.8409,   3.3905,  -4.4349,  -0.9236,   3.3930, -10.2706,\n",
      "          -0.5812,   2.1193, -11.1290],\n",
      "        [  3.5894,  -5.5341,   0.3087,   0.5558,  -0.2264,  10.3796,  -3.3468,\n",
      "          -1.4574,  -0.1225,  -6.6300],\n",
      "        [  5.6667, -16.6016,  -0.8440,  -4.5858,  -4.1582,  16.7846,  -3.7403,\n",
      "          -8.6235,  -4.9767,  -1.8372],\n",
      "        [  8.5181,  -4.3263,  -0.5209,   7.8208,  -4.6262,   6.7360,  -6.0753,\n",
      "         -11.6048,   4.3964,  -6.5543],\n",
      "        [ 11.1742, -15.5981,   2.4502,  -2.1214,  -3.3430,  12.3833, -14.0487,\n",
      "         -15.1399,  -4.2373,  -5.4131],\n",
      "        [  2.7528,  -2.5899,  -3.2674,  -2.6028,   0.4236,   7.6381, -10.5929,\n",
      "         -13.4691,  13.8298,  -4.5985],\n",
      "        [  6.7477, -11.9060,  -5.0229,  -4.3460,  -1.8851,   0.1336,  -6.7623,\n",
      "           2.6270,   7.8810, -10.3161],\n",
      "        [  2.5679,  -4.2173,  -1.8623,  -9.4673,   2.7534,  10.9351,  -1.5320,\n",
      "          -4.1951,   7.4144,  -8.8595],\n",
      "        [  4.9649,  -2.6792,  -4.6791,  -2.4283, -10.9364,   7.1264,  -4.2222,\n",
      "         -10.1267,  -7.2296,  -8.0134],\n",
      "        [  2.1776,  -5.6727,  -1.2695,   3.3028,  -5.4628,   3.8923,  -4.3260,\n",
      "          -9.0331,  -0.3594,   1.8776],\n",
      "        [ -0.8857,  -3.4003,   2.4895,  -4.7567,  -6.5376,  10.8278,  -0.2637,\n",
      "          -6.8681,  -2.2513,  -6.9808],\n",
      "        [ -9.0254,   6.0949,  -0.4038, -13.6249,   7.4479,   8.3882,  -3.6229,\n",
      "         -10.8673,  -1.4176,  -4.8603],\n",
      "        [  0.7492, -11.5906,   8.3589,  -7.0342,  -3.5330,  13.3155, -13.5800,\n",
      "           0.1354,  -7.7377, -14.6063],\n",
      "        [  3.4959,  -5.5261,  -2.7969,  -2.6936,   6.4327,  15.9534,  -1.5181,\n",
      "          -1.3452,  11.4817,  -7.5771],\n",
      "        [ -7.7905, -15.6563,   0.0967,  -5.0603,  -4.4344,  16.1258,  -8.5980,\n",
      "          -3.8487,   5.1527,  -9.5685],\n",
      "        [ -6.8031,  -4.0688,  -3.9159,  -4.8602,  -5.8575,   3.1550,  -3.7384,\n",
      "           0.3918,   5.9393, -16.0309],\n",
      "        [  3.5393,   2.5506,   4.4484,   0.2795,   3.6727,  14.5194,  -9.0040,\n",
      "         -14.8887,  -4.2223, -11.8820],\n",
      "        [ -0.4738,   1.8591,  -3.4865,  -1.6324,  -0.8681,  10.5158,  -9.1877,\n",
      "          -9.3156,  11.1407,   2.2003],\n",
      "        [  8.6319, -15.4390,   2.8219,  -2.8657,  -3.3120,   8.2122, -13.3858,\n",
      "          -9.8630,  -0.8130,  -9.1823],\n",
      "        [ -0.3516, -12.5441,   0.1657,  -7.1804,  -5.2546,  12.1154,  -0.2715,\n",
      "          -9.6126,   5.0549, -17.4962],\n",
      "        [  4.5105, -15.9100,   6.2084,   1.5902,  -6.9048,   2.8177, -15.2813,\n",
      "         -11.9748,   7.1414, -12.2265],\n",
      "        [  7.8230,  -1.7101,   8.7033,  -4.3132,  -5.2381,   5.9643,  -3.3298,\n",
      "          -4.8505,  -4.3084, -13.1498],\n",
      "        [ -2.3656,  -1.6185,  -1.5461,  -4.5578,  -2.7230,   8.9951,  -0.5352,\n",
      "          -7.2298,  -2.6390, -11.2678],\n",
      "        [ -4.0560, -12.2802,   0.3772,  -8.8998,  -1.1679,  20.0690,  -1.0606,\n",
      "          -8.7276,   1.5992, -10.9876],\n",
      "        [  6.6232,  -1.7016,   5.1359,  -5.5126,  -1.2114,  10.8185,  -5.5809,\n",
      "          -7.1877,   0.6574,   3.7127],\n",
      "        [  5.9038,  -1.4430,   0.0420,  -2.0175, -10.9296,   1.4046, -10.7393,\n",
      "          -8.7533,   2.4266,  -6.3031],\n",
      "        [  9.9132,  -4.1875,  11.5407,  -6.6955,   1.6300,   1.8807,  -1.2453,\n",
      "         -13.4762,  -7.1104,  -5.5972],\n",
      "        [  3.1259,  -0.7986,  14.8780,   2.6267,  -5.7750,  12.6321,   6.4649,\n",
      "         -13.8956,   0.0625, -13.9992],\n",
      "        [ -3.4350, -10.5485,   8.3203,  -2.0345,  -8.7199,   5.1976,  -7.7985,\n",
      "          -4.3621,   4.3557,  -5.2366],\n",
      "        [ -2.6143,  -1.0654,   5.6720,  -3.7025,   0.3982,  11.2767,   2.9154,\n",
      "          -0.8920,  -0.6981, -13.6739],\n",
      "        [ -9.1513, -11.6225,  -0.1819,  -4.4363,  -5.2584,   4.1969,  -2.8193,\n",
      "          -9.4552,  -0.9552,  -7.6921],\n",
      "        [  4.1548,  -8.4969,   7.7095,  -7.1949,  -6.2520,   8.6925,  -6.1878,\n",
      "         -15.7813,   7.3179,  -9.5152],\n",
      "        [  5.9043,  -5.8962,   2.6450,  -8.1392,   7.6072,  13.9331,  -2.1639,\n",
      "         -10.6088,  -5.1938,  -7.4700],\n",
      "        [ -0.2135,   4.9090,  -0.2797,  -0.2714,  -7.6872,   2.7014,  -3.5176,\n",
      "          -8.8652,  10.3800,  -2.5043],\n",
      "        [ -6.1831, -13.0071,   2.0083,   1.1242,  -6.3412,   7.9964,  -7.5965,\n",
      "           1.3200,  -1.3842, -18.3981],\n",
      "        [  5.4654, -12.4152,   1.6302,  -2.1177,  -4.7280,   8.7419, -13.5448,\n",
      "          -5.0070,  -0.6751,  -6.9989],\n",
      "        [  2.1017,  -3.4260,  11.5193,  -6.5142,  -3.5656,   3.4791,  -0.9337,\n",
      "         -10.5936,   5.9170,  -2.9512],\n",
      "        [  6.2367, -10.9083,   6.7787,  -0.7245,  -1.6046,   8.0646, -13.9492,\n",
      "         -10.6210,   3.6806,  -0.3336],\n",
      "        [  1.7676,  -9.9386,   4.1016,  -1.3814,  -2.5224,   7.2839,  -7.0943,\n",
      "          -3.0290,  -2.9919,  -2.0191],\n",
      "        [ -1.1199, -10.8145,   1.6416,  -4.3637, -10.2884,   1.5895,  -7.1610,\n",
      "          -8.8363,   1.2597, -17.4230],\n",
      "        [  4.6447,  -3.8108,   2.2776, -12.6501,  -1.8070,   8.6526,  -3.6261,\n",
      "           3.0347,  11.7543,  -0.1205],\n",
      "        [  0.1077,  -7.7399,  -1.0150,   1.9953,  -0.0586,   1.9619,  -6.7660,\n",
      "          -3.1822,   5.7534, -13.4812],\n",
      "        [ -0.5237,  -5.8085,   8.5159,  -6.5644, -13.7941,   8.1558, -11.1909,\n",
      "         -16.7506,   4.3809,  -9.6053],\n",
      "        [  7.7698, -15.4976,  -5.0455,  -3.0898, -10.0820,  11.9064, -10.2146,\n",
      "         -10.6408,  -5.9023,  -2.5049],\n",
      "        [ -3.2256, -11.3938,   3.2682,   1.6505,  -4.9565,   7.9320,  -5.0358,\n",
      "          -8.1277,   1.7183, -14.4746],\n",
      "        [  6.9974, -13.0925,   5.0847,  -4.5335,  -4.3951,  13.0437, -12.5171,\n",
      "          -7.7860,  -0.1388,  -0.4373],\n",
      "        [ -1.2713,  -6.4005,   1.1391,  -7.3511,  -7.4428,  10.0423,  -0.6747,\n",
      "          -5.9091,  -2.2235, -21.4133],\n",
      "        [  8.7794, -15.8503,  -0.3806,  -3.0895,  -0.5656,  15.6994, -10.3953,\n",
      "          -9.2421,   3.3672,  -8.7723],\n",
      "        [ 11.5423,  -3.3221,  11.8881,   2.4214,  -6.7068,   5.1193, -10.9686,\n",
      "           1.9344,  -3.3523, -15.9135]])\n"
     ]
    }
   ],
   "source": [
    "## Your solution\n",
    "\n",
    "# flatten images. images.shape[0] gives the batch size. -1 flattens the rest of the dimensions (could have used 784)\n",
    "flat_images = images.view(images.shape[0], -1)\n",
    "\n",
    "# generate randome tensors for weights and biases\n",
    "torch.manual_seed(7)\n",
    "\n",
    "weights1 = torch.randn(784, 256) #input units x hidden units\n",
    "bias1 = torch.randn(256) #one bias term for each hidden unit\n",
    "\n",
    "weights2 = torch.randn(256, 10) #hidden units x output units\n",
    "bias2 = torch.randn(10) #one bias per output unit\n",
    "\n",
    "def sigmoid_function(x):\n",
    "    return 1/(1 + torch.exp(-x))\n",
    "\n",
    "hidden_output = sigmoid_function(torch.mm(flat_images, weights1) + bias1)\n",
    "\n",
    "# output of your network, should have shape (64,10)\n",
    "out = torch.mm(hidden_output, weights2) + bias2\n",
    "\n",
    "out.shape\n",
    "print(out)"
   ]
  },
  {
   "cell_type": "markdown",
   "metadata": {},
   "source": [
    "Now we have 10 outputs for our network. We want to pass in an image to our network and get out a probability distribution over the classes that tells us the likely class(es) the image belongs to. Something that looks like this:\n",
    "<img src='assets/image_distribution.png' width=500px>\n",
    "\n",
    "Here we see that the probability for each class is roughly the same. This is representing an untrained network, it hasn't seen any data yet so it just returns a uniform distribution with equal probabilities for each class.\n",
    "\n",
    "To calculate this probability distribution, we often use the [**softmax** function](https://en.wikipedia.org/wiki/Softmax_function). Mathematically this looks like\n",
    "\n",
    "$$\n",
    "\\Large \\sigma(x_i) = \\cfrac{e^{x_i}}{\\sum_k^K{e^{x_k}}}\n",
    "$$\n",
    "\n",
    "What this does is squish each input $x_i$ between 0 and 1 and normalizes the values to give you a proper probability distribution where the probabilites sum up to one.\n",
    "\n",
    "> **Exercise:** Implement a function `softmax` that performs the softmax calculation and returns probability distributions for each example in the batch. Note that you'll need to pay attention to the shapes when doing this. If you have a tensor `a` with shape `(64, 10)` and a tensor `b` with shape `(64,)`, doing `a/b` will give you an error because PyTorch will try to do the division across the columns (called broadcasting) but you'll get a size mismatch. The way to think about this is for each of the 64 examples, you only want to divide by one value, the sum in the denominator. So you need `b` to have a shape of `(64, 1)`. This way PyTorch will divide the 10 values in each row of `a` by the one value in each row of `b`. Pay attention to how you take the sum as well. You'll need to define the `dim` keyword in `torch.sum`. Setting `dim=0` takes the sum across the rows while `dim=1` takes the sum across the columns."
   ]
  },
  {
   "cell_type": "code",
   "execution_count": 10,
   "metadata": {},
   "outputs": [
    {
     "name": "stdout",
     "output_type": "stream",
     "text": [
      "torch.Size([64, 10])\n",
      "tensor([1.0000, 1.0000, 1.0000, 1.0000, 1.0000, 1.0000, 1.0000, 1.0000, 1.0000,\n",
      "        1.0000, 1.0000, 1.0000, 1.0000, 1.0000, 1.0000, 1.0000, 1.0000, 1.0000,\n",
      "        1.0000, 1.0000, 1.0000, 1.0000, 1.0000, 1.0000, 1.0000, 1.0000, 1.0000,\n",
      "        1.0000, 1.0000, 1.0000, 1.0000, 1.0000, 1.0000, 1.0000, 1.0000, 1.0000,\n",
      "        1.0000, 1.0000, 1.0000, 1.0000, 1.0000, 1.0000, 1.0000, 1.0000, 1.0000,\n",
      "        1.0000, 1.0000, 1.0000, 1.0000, 1.0000, 1.0000, 1.0000, 1.0000, 1.0000,\n",
      "        1.0000, 1.0000, 1.0000, 1.0000, 1.0000, 1.0000, 1.0000, 1.0000, 1.0000,\n",
      "        1.0000])\n"
     ]
    }
   ],
   "source": [
    "def softmax(x):\n",
    "    ## TODO: Implement the softmax function here\n",
    "    return torch.exp(x)/torch.sum(torch.exp(x), dim=1).view(-1, 1)\n",
    "\n",
    "# Here, out should be the output of the network in the previous excercise with shape (64,10)\n",
    "probabilities = softmax(out)\n",
    "\n",
    "# Does it have the right shape? Should be (64, 10)\n",
    "print(probabilities.shape)\n",
    "# Does it sum to 1?\n",
    "print(probabilities.sum(dim=1))"
   ]
  },
  {
   "cell_type": "markdown",
   "metadata": {},
   "source": [
    "## Building networks with PyTorch\n",
    "\n",
    "PyTorch provides a module `nn` that makes building networks much simpler. Here I'll show you how to build the same one as above with 784 inputs, 256 hidden units, 10 output units and a softmax output."
   ]
  },
  {
   "cell_type": "code",
   "execution_count": 11,
   "metadata": {},
   "outputs": [],
   "source": [
    "from torch import nn"
   ]
  },
  {
   "cell_type": "code",
   "execution_count": 12,
   "metadata": {},
   "outputs": [],
   "source": [
    "class Network(nn.Module):\n",
    "    def __init__(self):\n",
    "        super().__init__()\n",
    "        \n",
    "        # Inputs to hidden layer linear transformation\n",
    "        self.hidden = nn.Linear(784, 256)\n",
    "        # Output layer, 10 units - one for each digit\n",
    "        self.output = nn.Linear(256, 10)\n",
    "        \n",
    "        # Define sigmoid activation and softmax output \n",
    "        self.sigmoid = nn.Sigmoid()\n",
    "        self.softmax = nn.Softmax(dim=1)\n",
    "        \n",
    "    def forward(self, x):\n",
    "        # Pass the input tensor through each of our operations\n",
    "        x = self.hidden(x)\n",
    "        x = self.sigmoid(x)\n",
    "        x = self.output(x)\n",
    "        x = self.softmax(x)\n",
    "        \n",
    "        return x"
   ]
  },
  {
   "cell_type": "markdown",
   "metadata": {},
   "source": [
    "Let's go through this bit by bit.\n",
    "\n",
    "```python\n",
    "class Network(nn.Module):\n",
    "```\n",
    "\n",
    "Here we're inheriting from `nn.Module`. Combined with `super().__init__()` this creates a class that tracks the architecture and provides a lot of useful methods and attributes. It is mandatory to inherit from `nn.Module` when you're creating a class for your network. The name of the class itself can be anything.\n",
    "\n",
    "```python\n",
    "self.hidden = nn.Linear(784, 256)\n",
    "```\n",
    "\n",
    "This line creates a module for a linear transformation, $x\\mathbf{W} + b$, with 784 inputs and 256 outputs and assigns it to `self.hidden`. The module automatically creates the weight and bias tensors which we'll use in the `forward` method. You can access the weight and bias tensors once the network (`net`) is created with `net.hidden.weight` and `net.hidden.bias`.\n",
    "\n",
    "```python\n",
    "self.output = nn.Linear(256, 10)\n",
    "```\n",
    "\n",
    "Similarly, this creates another linear transformation with 256 inputs and 10 outputs.\n",
    "\n",
    "```python\n",
    "self.sigmoid = nn.Sigmoid()\n",
    "self.softmax = nn.Softmax(dim=1)\n",
    "```\n",
    "\n",
    "Here I defined operations for the sigmoid activation and softmax output. Setting `dim=1` in `nn.Softmax(dim=1)` calculates softmax across the columns.\n",
    "\n",
    "```python\n",
    "def forward(self, x):\n",
    "```\n",
    "\n",
    "PyTorch networks created with `nn.Module` must have a `forward` method defined. It takes in a tensor `x` and passes it through the operations you defined in the `__init__` method.\n",
    "\n",
    "```python\n",
    "x = self.hidden(x)\n",
    "x = self.sigmoid(x)\n",
    "x = self.output(x)\n",
    "x = self.softmax(x)\n",
    "```\n",
    "\n",
    "Here the input tensor `x` is passed through each operation a reassigned to `x`. We can see that the input tensor goes through the hidden layer, then a sigmoid function, then the output layer, and finally the softmax function. It doesn't matter what you name the variables here, as long as the inputs and outputs of the operations match the network architecture you want to build. The order in which you define things in the `__init__` method doesn't matter, but you'll need to sequence the operations correctly in the `forward` method.\n",
    "\n",
    "Now we can create a `Network` object."
   ]
  },
  {
   "cell_type": "code",
   "execution_count": 13,
   "metadata": {},
   "outputs": [
    {
     "data": {
      "text/plain": [
       "Network(\n",
       "  (hidden): Linear(in_features=784, out_features=256, bias=True)\n",
       "  (output): Linear(in_features=256, out_features=10, bias=True)\n",
       "  (sigmoid): Sigmoid()\n",
       "  (softmax): Softmax()\n",
       ")"
      ]
     },
     "execution_count": 13,
     "metadata": {},
     "output_type": "execute_result"
    }
   ],
   "source": [
    "# Create the network and look at it's text representation\n",
    "model = Network()\n",
    "model"
   ]
  },
  {
   "cell_type": "markdown",
   "metadata": {},
   "source": [
    "You can define the network somewhat more concisely and clearly using the `torch.nn.functional` module. This is the most common way you'll see networks defined as many operations are simple element-wise functions. We normally import this module as `F`, `import torch.nn.functional as F`."
   ]
  },
  {
   "cell_type": "code",
   "execution_count": 14,
   "metadata": {},
   "outputs": [],
   "source": [
    "import torch.nn.functional as F\n",
    "\n",
    "class Network(nn.Module):\n",
    "    def __init__(self):\n",
    "        super().__init__()\n",
    "        # Inputs to hidden layer linear transformation\n",
    "        self.hidden = nn.Linear(784, 256)\n",
    "        # Output layer, 10 units - one for each digit\n",
    "        self.output = nn.Linear(256, 10)\n",
    "        \n",
    "    def forward(self, x):\n",
    "        # Hidden layer with sigmoid activation\n",
    "        x = F.sigmoid(self.hidden(x))\n",
    "        # Output layer with softmax activation\n",
    "        x = F.softmax(self.output(x), dim=1)\n",
    "        \n",
    "        return x"
   ]
  },
  {
   "cell_type": "markdown",
   "metadata": {},
   "source": [
    "### Activation functions\n",
    "\n",
    "So far we've only been looking at the softmax activation, but in general any function can be used as an activation function. The only requirement is that for a network to approximate a non-linear function, the activation functions must be non-linear. Here are a few more examples of common activation functions: Tanh (hyperbolic tangent), and ReLU (rectified linear unit).\n",
    "\n",
    "<img src=\"assets/activation.png\" width=700px>\n",
    "\n",
    "In practice, the ReLU function is used almost exclusively as the activation function for hidden layers."
   ]
  },
  {
   "cell_type": "markdown",
   "metadata": {},
   "source": [
    "### Your Turn to Build a Network\n",
    "\n",
    "<img src=\"assets/mlp_mnist.png\" width=600px>\n",
    "\n",
    "> **Exercise:** Create a network with 784 input units, a hidden layer with 128 units and a ReLU activation, then a hidden layer with 64 units and a ReLU activation, and finally an output layer with a softmax activation as shown above. You can use a ReLU activation with the `nn.ReLU` module or `F.relu` function."
   ]
  },
  {
   "cell_type": "code",
   "execution_count": 20,
   "metadata": {
    "scrolled": true
   },
   "outputs": [
    {
     "data": {
      "text/plain": [
       "Network(\n",
       "  (hidden): Linear(in_features=784, out_features=128, bias=True)\n",
       "  (hidden2): Linear(in_features=128, out_features=64, bias=True)\n",
       "  (output): Linear(in_features=64, out_features=10, bias=True)\n",
       "  (relu): ReLU()\n",
       "  (softmax): Softmax()\n",
       ")"
      ]
     },
     "execution_count": 20,
     "metadata": {},
     "output_type": "execute_result"
    }
   ],
   "source": [
    "## Your solution here\n",
    "class Network(nn.Module):\n",
    "    def __init__(self):\n",
    "        super().__init__()\n",
    "        \n",
    "        # Inputs to hidden layer linear transformation\n",
    "        self.hidden = nn.Linear(784, 128)\n",
    "        # Inputs to hidden layer 2 linear transformation\n",
    "        self.hidden2 = nn.Linear(128, 64)\n",
    "        # Output layer, 10 units - one for each digit\n",
    "        self.output = nn.Linear(64, 10)\n",
    "        \n",
    "        # Define sigmoid activation and softmax output \n",
    "        self.relu = nn.ReLU()\n",
    "        self.softmax = nn.Softmax(dim=1)\n",
    "        \n",
    "    def forward(self, x):\n",
    "        # Pass the input tensor through each of our operations\n",
    "        x = self.hidden(x)\n",
    "        x = self.relu(x)\n",
    "        x = self.hidden2(x)\n",
    "        x = self.relu(x)\n",
    "        x = self.output(x)\n",
    "        x = self.softmax(x)\n",
    "        \n",
    "        return x\n",
    "    \n",
    "model = Network()\n",
    "model"
   ]
  },
  {
   "cell_type": "markdown",
   "metadata": {},
   "source": [
    "### Initializing weights and biases\n",
    "\n",
    "The weights and such are automatically initialized for you, but it's possible to customize how they are initialized. The weights and biases are tensors attached to the layer you defined, you can get them with `model.fc1.weight` for instance."
   ]
  },
  {
   "cell_type": "code",
   "execution_count": 22,
   "metadata": {},
   "outputs": [
    {
     "name": "stdout",
     "output_type": "stream",
     "text": [
      "Parameter containing:\n",
      "tensor([[ 0.0074,  0.0126,  0.0136,  ..., -0.0305,  0.0031, -0.0169],\n",
      "        [-0.0056, -0.0313,  0.0250,  ..., -0.0276, -0.0035, -0.0011],\n",
      "        [-0.0059, -0.0284, -0.0092,  ...,  0.0146,  0.0092, -0.0347],\n",
      "        ...,\n",
      "        [-0.0227,  0.0313, -0.0265,  ..., -0.0280,  0.0268, -0.0074],\n",
      "        [-0.0203,  0.0048,  0.0218,  ..., -0.0283,  0.0236, -0.0209],\n",
      "        [-0.0037,  0.0138, -0.0274,  ...,  0.0268, -0.0338, -0.0260]],\n",
      "       requires_grad=True)\n",
      "Parameter containing:\n",
      "tensor([[ 0.0665, -0.0054, -0.0382,  ..., -0.0265, -0.0505,  0.0317],\n",
      "        [-0.0484, -0.0588,  0.0780,  ...,  0.0614, -0.0375, -0.0616],\n",
      "        [-0.0026, -0.0588, -0.0369,  ...,  0.0122, -0.0018, -0.0506],\n",
      "        ...,\n",
      "        [-0.0726,  0.0726, -0.0600,  ...,  0.0795, -0.0278,  0.0732],\n",
      "        [ 0.0334,  0.0823,  0.0346,  ...,  0.0807,  0.0117,  0.0015],\n",
      "        [-0.0163,  0.0375, -0.0118,  ..., -0.0839, -0.0222, -0.0832]],\n",
      "       requires_grad=True)\n",
      "Parameter containing:\n",
      "tensor([-0.0285, -0.0111, -0.0321, -0.0245,  0.0211, -0.0246,  0.0001, -0.0341,\n",
      "        -0.0258, -0.0197, -0.0157,  0.0031, -0.0341, -0.0336, -0.0139,  0.0004,\n",
      "         0.0233,  0.0224, -0.0200,  0.0323,  0.0096, -0.0054, -0.0003, -0.0297,\n",
      "         0.0311,  0.0010,  0.0088, -0.0158,  0.0205,  0.0158,  0.0315,  0.0085,\n",
      "        -0.0243, -0.0132, -0.0239,  0.0058,  0.0026,  0.0080,  0.0260, -0.0191,\n",
      "        -0.0356,  0.0034, -0.0335,  0.0233,  0.0279, -0.0070, -0.0074,  0.0322,\n",
      "         0.0262, -0.0090, -0.0314, -0.0205, -0.0155, -0.0294,  0.0357, -0.0350,\n",
      "        -0.0291,  0.0166,  0.0013,  0.0132, -0.0317,  0.0305, -0.0180, -0.0324,\n",
      "         0.0264,  0.0306, -0.0005,  0.0178,  0.0242, -0.0183, -0.0020,  0.0176,\n",
      "        -0.0194, -0.0265, -0.0244,  0.0306,  0.0338, -0.0276,  0.0281, -0.0272,\n",
      "        -0.0111,  0.0127,  0.0270, -0.0086,  0.0199,  0.0308, -0.0144, -0.0003,\n",
      "         0.0041, -0.0050, -0.0213, -0.0102,  0.0271, -0.0162, -0.0159, -0.0022,\n",
      "        -0.0261,  0.0228,  0.0085, -0.0109,  0.0198,  0.0353,  0.0080,  0.0238,\n",
      "         0.0114, -0.0234, -0.0075,  0.0019,  0.0192,  0.0333, -0.0166,  0.0226,\n",
      "         0.0340,  0.0151, -0.0354,  0.0313, -0.0102, -0.0273, -0.0297, -0.0136,\n",
      "        -0.0131, -0.0081, -0.0102, -0.0223,  0.0348,  0.0005, -0.0018, -0.0321],\n",
      "       requires_grad=True)\n",
      "Parameter containing:\n",
      "tensor([-0.0564,  0.0006,  0.0758,  0.0765, -0.0803, -0.0233, -0.0875, -0.0095,\n",
      "         0.0707,  0.0612, -0.0589, -0.0693,  0.0510, -0.0539, -0.0247, -0.0818,\n",
      "         0.0002,  0.0488,  0.0866, -0.0860,  0.0814,  0.0474, -0.0700, -0.0518,\n",
      "        -0.0128, -0.0366, -0.0775, -0.0345,  0.0261, -0.0242, -0.0356,  0.0091,\n",
      "         0.0022,  0.0647,  0.0160, -0.0866,  0.0209,  0.0220, -0.0166, -0.0541,\n",
      "        -0.0235,  0.0135,  0.0573,  0.0612,  0.0578,  0.0067,  0.0707, -0.0114,\n",
      "         0.0780, -0.0013,  0.0317,  0.0070, -0.0369, -0.0336, -0.0868, -0.0083,\n",
      "        -0.0479,  0.0818, -0.0681, -0.0564,  0.0156,  0.0444, -0.0423,  0.0529],\n",
      "       requires_grad=True)\n"
     ]
    }
   ],
   "source": [
    "print(model.hidden.weight)\n",
    "print(model.hidden2.weight)\n",
    "print(model.hidden.bias)\n",
    "print(model.hidden2.bias)"
   ]
  },
  {
   "cell_type": "markdown",
   "metadata": {},
   "source": [
    "For custom initialization, we want to modify these tensors in place. These are actually autograd *Variables*, so we need to get back the actual tensors with `model.fc1.weight.data`. Once we have the tensors, we can fill them with zeros (for biases) or random normal values."
   ]
  },
  {
   "cell_type": "code",
   "execution_count": 23,
   "metadata": {},
   "outputs": [
    {
     "data": {
      "text/plain": [
       "tensor([0., 0., 0., 0., 0., 0., 0., 0., 0., 0., 0., 0., 0., 0., 0., 0., 0., 0.,\n",
       "        0., 0., 0., 0., 0., 0., 0., 0., 0., 0., 0., 0., 0., 0., 0., 0., 0., 0.,\n",
       "        0., 0., 0., 0., 0., 0., 0., 0., 0., 0., 0., 0., 0., 0., 0., 0., 0., 0.,\n",
       "        0., 0., 0., 0., 0., 0., 0., 0., 0., 0., 0., 0., 0., 0., 0., 0., 0., 0.,\n",
       "        0., 0., 0., 0., 0., 0., 0., 0., 0., 0., 0., 0., 0., 0., 0., 0., 0., 0.,\n",
       "        0., 0., 0., 0., 0., 0., 0., 0., 0., 0., 0., 0., 0., 0., 0., 0., 0., 0.,\n",
       "        0., 0., 0., 0., 0., 0., 0., 0., 0., 0., 0., 0., 0., 0., 0., 0., 0., 0.,\n",
       "        0., 0.])"
      ]
     },
     "execution_count": 23,
     "metadata": {},
     "output_type": "execute_result"
    }
   ],
   "source": [
    "# Set biases to all zeros\n",
    "model.hidden.bias.data.fill_(0)"
   ]
  },
  {
   "cell_type": "code",
   "execution_count": 24,
   "metadata": {},
   "outputs": [
    {
     "data": {
      "text/plain": [
       "tensor([[-0.0135, -0.0032, -0.0015,  ...,  0.0101,  0.0039, -0.0019],\n",
       "        [ 0.0079, -0.0029,  0.0034,  ..., -0.0013,  0.0033,  0.0274],\n",
       "        [-0.0022,  0.0187,  0.0045,  ...,  0.0065,  0.0051,  0.0108],\n",
       "        ...,\n",
       "        [-0.0097, -0.0186, -0.0120,  ...,  0.0040,  0.0017,  0.0126],\n",
       "        [-0.0042, -0.0210,  0.0038,  ..., -0.0098, -0.0041,  0.0134],\n",
       "        [-0.0038,  0.0003, -0.0028,  ...,  0.0006,  0.0044,  0.0062]])"
      ]
     },
     "execution_count": 24,
     "metadata": {},
     "output_type": "execute_result"
    }
   ],
   "source": [
    "# sample from random normal with standard dev = 0.01\n",
    "model.hidden.weight.data.normal_(std=0.01)"
   ]
  },
  {
   "cell_type": "markdown",
   "metadata": {},
   "source": [
    "### Forward pass\n",
    "\n",
    "Now that we have a network, let's see what happens when we pass in an image."
   ]
  },
  {
   "cell_type": "code",
   "execution_count": 25,
   "metadata": {},
   "outputs": [
    {
     "data": {
      "image/png": "[encoded data removed]",
      "text/plain": [
       "<Figure size 432x648 with 2 Axes>"
      ]
     },
     "metadata": {
      "image/png": {
       "height": 226,
       "width": 423
      },
      "needs_background": "light"
     },
     "output_type": "display_data"
    }
   ],
   "source": [
    "# Grab some data \n",
    "dataiter = iter(trainloader)\n",
    "images, labels = dataiter.next()\n",
    "\n",
    "# Resize images into a 1D vector, new shape is (batch size, color channels, image pixels) \n",
    "images.resize_(64, 1, 784)\n",
    "# or images.resize_(images.shape[0], 1, 784) to automatically get batch size\n",
    "\n",
    "# Forward pass through the network\n",
    "img_idx = 0\n",
    "ps = model.forward(images[img_idx,:])\n",
    "\n",
    "img = images[img_idx]\n",
    "helper.view_classify(img.view(1, 28, 28), ps)"
   ]
  },
  {
   "cell_type": "markdown",
   "metadata": {},
   "source": [
    "As you can see above, our network has basically no idea what this digit is. It's because we haven't trained it yet, all the weights are random!\n",
    "\n",
    "### Using `nn.Sequential`\n",
    "\n",
    "PyTorch provides a convenient way to build networks like this where a tensor is passed sequentially through operations, `nn.Sequential` ([documentation](https://pytorch.org/docs/master/nn.html#torch.nn.Sequential)). Using this to build the equivalent network:"
   ]
  },
  {
   "cell_type": "code",
   "execution_count": 26,
   "metadata": {},
   "outputs": [
    {
     "name": "stdout",
     "output_type": "stream",
     "text": [
      "Sequential(\n",
      "  (0): Linear(in_features=784, out_features=128, bias=True)\n",
      "  (1): ReLU()\n",
      "  (2): Linear(in_features=128, out_features=64, bias=True)\n",
      "  (3): ReLU()\n",
      "  (4): Linear(in_features=64, out_features=10, bias=True)\n",
      "  (5): Softmax()\n",
      ")\n"
     ]
    },
    {
     "data": {
      "image/png": "[encoded data removed]",
      "text/plain": [
       "<Figure size 432x648 with 2 Axes>"
      ]
     },
     "metadata": {
      "image/png": {
       "height": 226,
       "width": 423
      },
      "needs_background": "light"
     },
     "output_type": "display_data"
    }
   ],
   "source": [
    "# Hyperparameters for our network\n",
    "input_size = 784\n",
    "hidden_sizes = [128, 64]\n",
    "output_size = 10\n",
    "\n",
    "# Build a feed-forward network\n",
    "model = nn.Sequential(nn.Linear(input_size, hidden_sizes[0]),\n",
    "                      nn.ReLU(),\n",
    "                      nn.Linear(hidden_sizes[0], hidden_sizes[1]),\n",
    "                      nn.ReLU(),\n",
    "                      nn.Linear(hidden_sizes[1], output_size),\n",
    "                      nn.Softmax(dim=1))\n",
    "print(model)\n",
    "\n",
    "# Forward pass through the network and display output\n",
    "images, labels = next(iter(trainloader))\n",
    "images.resize_(images.shape[0], 1, 784)\n",
    "ps = model.forward(images[0,:])\n",
    "helper.view_classify(images[0].view(1, 28, 28), ps)"
   ]
  },
  {
   "cell_type": "markdown",
   "metadata": {},
   "source": [
    "Here our model is the same as before: 784 input units, a hidden layer with 128 units, ReLU activation, 64 unit hidden layer, another ReLU, then the output layer with 10 units, and the softmax output.\n",
    "\n",
    "The operations are availble by passing in the appropriate index. For example, if you want to get first Linear operation and look at the weights, you'd use `model[0]`."
   ]
  },
  {
   "cell_type": "code",
   "execution_count": 27,
   "metadata": {},
   "outputs": [
    {
     "name": "stdout",
     "output_type": "stream",
     "text": [
      "Linear(in_features=784, out_features=128, bias=True)\n"
     ]
    },
    {
     "data": {
      "text/plain": [
       "Parameter containing:\n",
       "tensor([[ 0.0157, -0.0145, -0.0135,  ..., -0.0243,  0.0220, -0.0318],\n",
       "        [-0.0314,  0.0171, -0.0275,  ...,  0.0243,  0.0197,  0.0089],\n",
       "        [-0.0225, -0.0105,  0.0196,  ...,  0.0015, -0.0318, -0.0037],\n",
       "        ...,\n",
       "        [ 0.0273,  0.0232, -0.0140,  ..., -0.0142,  0.0127,  0.0232],\n",
       "        [ 0.0194, -0.0251, -0.0067,  ...,  0.0258, -0.0152,  0.0220],\n",
       "        [-0.0106, -0.0298, -0.0295,  ..., -0.0226, -0.0099, -0.0019]],\n",
       "       requires_grad=True)"
      ]
     },
     "execution_count": 27,
     "metadata": {},
     "output_type": "execute_result"
    }
   ],
   "source": [
    "print(model[0])\n",
    "model[0].weight"
   ]
  },
  {
   "cell_type": "markdown",
   "metadata": {},
   "source": [
    "You can also pass in an `OrderedDict` to name the individual layers and operations, instead of using incremental integers. Note that dictionary keys must be unique, so _each operation must have a different name_."
   ]
  },
  {
   "cell_type": "code",
   "execution_count": 28,
   "metadata": {},
   "outputs": [
    {
     "data": {
      "text/plain": [
       "Sequential(\n",
       "  (fc1): Linear(in_features=784, out_features=128, bias=True)\n",
       "  (relu1): ReLU()\n",
       "  (fc2): Linear(in_features=128, out_features=64, bias=True)\n",
       "  (relu2): ReLU()\n",
       "  (output): Linear(in_features=64, out_features=10, bias=True)\n",
       "  (softmax): Softmax()\n",
       ")"
      ]
     },
     "execution_count": 28,
     "metadata": {},
     "output_type": "execute_result"
    }
   ],
   "source": [
    "from collections import OrderedDict\n",
    "model = nn.Sequential(OrderedDict([\n",
    "                      ('fc1', nn.Linear(input_size, hidden_sizes[0])),\n",
    "                      ('relu1', nn.ReLU()),\n",
    "                      ('fc2', nn.Linear(hidden_sizes[0], hidden_sizes[1])),\n",
    "                      ('relu2', nn.ReLU()),\n",
    "                      ('output', nn.Linear(hidden_sizes[1], output_size)),\n",
    "                      ('softmax', nn.Softmax(dim=1))]))\n",
    "model"
   ]
  },
  {
   "cell_type": "markdown",
   "metadata": {},
   "source": [
    "Now you can access layers either by integer or the name"
   ]
  },
  {
   "cell_type": "code",
   "execution_count": 29,
   "metadata": {},
   "outputs": [
    {
     "name": "stdout",
     "output_type": "stream",
     "text": [
      "Linear(in_features=784, out_features=128, bias=True)\n",
      "Linear(in_features=784, out_features=128, bias=True)\n"
     ]
    }
   ],
   "source": [
    "print(model[0])\n",
    "print(model.fc1)"
   ]
  },
  {
   "cell_type": "markdown",
   "metadata": {},
   "source": [
    "In the next notebook, we'll see how we can train a neural network to accuractly predict the numbers appearing in the MNIST images."
   ]
  }
 ],
 "metadata": {
  "kernelspec": {
   "display_name": "Python 3",
   "language": "python",
   "name": "python3"
  },
  "language_info": {
   "codemirror_mode": {
    "name": "ipython",
    "version": 3
   },
   "file_extension": ".py",
   "mimetype": "text/x-python",
   "name": "python",
   "nbconvert_exporter": "python",
   "pygments_lexer": "ipython3",
   "version": "3.7.1"
  }
 },
 "nbformat": 4,
 "nbformat_minor": 2
}
